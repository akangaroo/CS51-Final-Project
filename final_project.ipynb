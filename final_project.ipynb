{
 "cells": [
  {
   "cell_type": "code",
   "execution_count": 5,
   "metadata": {
    "collapsed": false
   },
   "outputs": [
    {
     "name": "stdout",
     "output_type": "stream",
     "text": [
      "median_1 [1,2,3,4,5]\n"
     ]
    },
    {
     "ename": "ValueError",
     "evalue": "invalid literal for int() with base 10: 'median_1'",
     "output_type": "error",
     "traceback": [
      "\u001b[0;31m---------------------------------------------------------------------------\u001b[0m",
      "\u001b[0;31mValueError\u001b[0m                                Traceback (most recent call last)",
      "\u001b[0;32m<ipython-input-5-bfdfd9ed15f8>\u001b[0m in \u001b[0;36m<module>\u001b[0;34m()\u001b[0m\n\u001b[1;32m      1\u001b[0m \u001b[0;32mimport\u001b[0m \u001b[0mrandom\u001b[0m\u001b[0;34m\u001b[0m\u001b[0m\n\u001b[1;32m      2\u001b[0m \u001b[0;34m\u001b[0m\u001b[0m\n\u001b[0;32m----> 3\u001b[0;31m \u001b[0mlst\u001b[0m \u001b[0;34m=\u001b[0m \u001b[0mlist\u001b[0m\u001b[0;34m(\u001b[0m\u001b[0mmap\u001b[0m\u001b[0;34m(\u001b[0m\u001b[0mint\u001b[0m\u001b[0;34m,\u001b[0m \u001b[0mraw_input\u001b[0m\u001b[0;34m(\u001b[0m\u001b[0;34m)\u001b[0m\u001b[0;34m.\u001b[0m\u001b[0msplit\u001b[0m\u001b[0;34m(\u001b[0m\u001b[0;34m)\u001b[0m\u001b[0;34m)\u001b[0m\u001b[0;34m)\u001b[0m\u001b[0;34m\u001b[0m\u001b[0m\n\u001b[0m\u001b[1;32m      4\u001b[0m \u001b[0;31m#median, or if even number of items in left,\u001b[0m\u001b[0;34m\u001b[0m\u001b[0;34m\u001b[0m\u001b[0m\n\u001b[1;32m      5\u001b[0m \u001b[0;31m#the item to the left of the median\u001b[0m\u001b[0;34m\u001b[0m\u001b[0;34m\u001b[0m\u001b[0m\n",
      "\u001b[0;31mValueError\u001b[0m: invalid literal for int() with base 10: 'median_1'"
     ]
    }
   ],
   "source": [
    "import random\n",
    "\n",
    "lst = list(map(int, raw_input().split()))\n",
    "#median, or if even number of items in left, \n",
    "#the item to the left of the median\n",
    "def quick_select(A, k):\n",
    "    lesser = []\n",
    "    greater = []\n",
    "    pivot = random.choice(A)\n",
    "    for i in A:\n",
    "        if i < pivot:\n",
    "            lesser.append(i)\n",
    "        else:\n",
    "            greater.append(i)\n",
    "    (a, a1, a2) = (len(A), len(lesser), len(greater))\n",
    "    if k < a1:\n",
    "        return quick_select(lesser, k)\n",
    "    elif k > a - a2:\n",
    "        return quick_select(greater, k - (a - a2))\n",
    "    else:\n",
    "        return pivot\n",
    "\n",
    "def median_1 (C):\n",
    "    print quick_select (C, len(C)/2)\n",
    "\n",
    "median_1 (lst)"
   ]
  },
  {
   "cell_type": "code",
   "execution_count": 10,
   "metadata": {
    "collapsed": false
   },
   "outputs": [],
   "source": [
    "from PIL import Image\n",
    "\n",
    "class image(object):\n",
    "\n",
    "    #initialize image object\n",
    "    def __init__ (self, filename):\n",
    "        self.img = Image.open(filename)\n",
    "        self.rgb_img = img.convert('RGB')\n",
    "        self.width, self.height = self.img.size\n",
    "\n",
    "    #pos should always be a tuple of two integers\n",
    "    def get_RGB_value(self, pos):\n",
    "        return self.rgb_img.getpixel(pos)\n",
    "\n",
    "    def get_next_RGB(self, pos):\n",
    "        (x, y) = pos\n",
    "        if x >= self.width:\n",
    "            return self.get_RGB_value(self, (1, y+1))\n",
    "        else:\n",
    "            return self.get_RGB_value(self, (x+1, y))\n"
   ]
  },
  {
   "cell_type": "code",
   "execution_count": null,
   "metadata": {
    "collapsed": true
   },
   "outputs": [],
   "source": []
  }
 ],
 "metadata": {
  "kernelspec": {
   "display_name": "Python 2",
   "language": "python",
   "name": "python2"
  },
  "language_info": {
   "codemirror_mode": {
    "name": "ipython",
    "version": 2
   },
   "file_extension": ".py",
   "mimetype": "text/x-python",
   "name": "python",
   "nbconvert_exporter": "python",
   "pygments_lexer": "ipython2",
   "version": "2.7.9"
  }
 },
 "nbformat": 4,
 "nbformat_minor": 0
}
